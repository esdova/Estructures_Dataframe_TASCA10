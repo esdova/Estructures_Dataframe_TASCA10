{
 "cells": [
  {
   "cell_type": "code",
   "execution_count": null,
   "id": "9094efc7",
   "metadata": {},
   "outputs": [],
   "source": [
    "# BeautifulSoup\n",
    "\n",
    "import requests                  # llibreries necessaries\n",
    "from bs4 import BeautifulSoup\n",
    "\n",
    "URL = \"https://es.wikipedia.org/wiki/Matrix\"   \n",
    "page = requests.get(URL)                      #faig petició a la URL especificada\n",
    "\n",
    "soup = BeautifulSoup(page.content, \"html.parser\")  #  objecte per poder trobar elements dels contingut HTML de la pag\n",
    "titleEl = soup.find(id=\"firstHeading\").find(\"span\") #  trobo l´element que conté el títol\n",
    "title = titleEl.text\n",
    "\n",
    "print('Títol cerca: ',title)\n"
   ]
  },
  {
   "cell_type": "code",
   "execution_count": null,
   "id": "a52da402",
   "metadata": {},
   "outputs": [],
   "source": [
    "\n",
    "contentEl = soup.find(\"div\", class_=\"mw-parser-output\").find(\"p\") #  trobo l´element que conté la descripció\n",
    "content = contentEl.text\n",
    "\n",
    "print('Descripció: ', content)\n"
   ]
  },
  {
   "cell_type": "code",
   "execution_count": null,
   "id": "1d155fe3",
   "metadata": {},
   "outputs": [],
   "source": [
    "# Selenium                           \n",
    "\n",
    "from selenium import webdriver\n",
    "from selenium.webdriver.common.keys import Keys\n",
    "from selenium.webdriver.common.by import By\n",
    "\n",
    "driver = webdriver.Chrome()                           #instancia de chrome\n",
    "                         \n",
    "driver.get(\"http://quotes.toscrape.com/tag/humor\")    # faig petició a la URL especificada\n",
    "titleEl2 = driver.find_element(By.TAG_NAME, \"h3\")     # trobo l´element que conté el títol\n",
    "print('Títol: ',titleEl2.text)   \n",
    "\n",
    "postEl = driver.find_element(By.CLASS_NAME, \"quote\")  #  trobo l´element que conté el el primer post\n",
    "print('1er post: ',postEl.text)\n",
    "\n",
    "driver.quit();\n"
   ]
  },
  {
   "cell_type": "code",
   "execution_count": null,
   "id": "2507509c",
   "metadata": {},
   "outputs": [],
   "source": [
    "#  ex 3 Selenium                           \n",
    "\n",
    "from selenium import webdriver\n",
    "from selenium.webdriver.common.keys import Keys\n",
    "from selenium.webdriver.common.by import By\n",
    "from selenium.common.exceptions import NoSuchElementException\n",
    "\n",
    "driver = webdriver.Chrome()                           #instancia de chrome\n",
    "                         \n",
    "driver.get(\"https://www.amazon.es/\")                 # faig petició a la URL especificada\n",
    "\n",
    "try:                                                 # si surt  el botó d'acceptar cookies fes click, sino continua \n",
    "    driver.find_element(By.ID, \"sp-cc-accept\").click()\n",
    "except NoSuchElementException:\n",
    "    pass\n",
    "\n",
    "elem = driver.find_element(By.ID, \"twotabsearchtextbox\")       # busco la caixa de cerca\n",
    "elem.send_keys(\"tablet mipad5\")                                #inserto text a buscar\n",
    "elem.send_keys(Keys.RETURN)                                    # envio a event de return\n",
    "productEl = driver.find_element(By.CLASS_NAME, \"s-card-container\")   # element que conté la info del producte\n",
    "\n",
    "productDescEl = productEl.find_element(By.TAG_NAME, \"h2\")       \n",
    "print('1er Producte: ', productDescEl.find_element(By.TAG_NAME, \"span\").text)\n",
    "print('Preu: ', productEl.find_element(By.CLASS_NAME, \"a-price-whole\").text, '€')\n",
    "\n",
    "driver.quit(); # tanco l'instància de chrome\n"
   ]
  },
  {
   "cell_type": "code",
   "execution_count": 4,
   "id": "d3faf4c7",
   "metadata": {},
   "outputs": [
    {
     "name": "stdout",
     "output_type": "stream",
     "text": [
      "“The person, be it gentleman or lady, who has not pleasure in a good novel, must be intolerably stupid.”\n",
      "“A day without sunshine is like, you know, night.”\n",
      "“Anyone who thinks sitting in church can make you a Christian must also think that sitting in a garage can make you a car.”\n",
      "“Beauty is in the eye of the beholder and it may be necessary from time to time to give a stupid or misinformed beholder a black eye.”\n",
      "“All you need is love. But a little chocolate now and then doesn't hurt.”\n",
      "“Remember, we're madly in love, so it's all right to kiss me anytime you feel like it.”\n",
      "“Some people never go crazy. What truly horrible lives they must lead.”\n",
      "“The trouble with having an open mind, of course, is that people will insist on coming along and trying to put things in it.”\n",
      "“Think left and think right and think low and think high. Oh, the thinks you can think up if only you try!”\n",
      "“The reason I talk to myself is because I’m the only one whose answers I accept.”\n"
     ]
    },
    {
     "data": {
      "text/plain": [
       "[]"
      ]
     },
     "execution_count": 4,
     "metadata": {},
     "output_type": "execute_result"
    }
   ],
   "source": [
    "# ex 3 scrapy\n",
    "\n",
    "import scrapy\n",
    "import scrapy.crawler as crawler\n",
    "from scrapy.spiders import CrawlSpider\n",
    "import scrapydo\n",
    "\n",
    "scrapydo.setup()\n",
    "\n",
    "\n",
    "class QuotesSpider(scrapy.Spider):     #creo una classe spider\n",
    "    name = \"quotes\"\n",
    "    start_urls = ['http://quotes.toscrape.com/tag/humor/']\n",
    "\n",
    "    def parse(self, response):         #funció que \"parseja\" el contingut de la pàgina web\n",
    "        for quote in response.css('div.quote'):\n",
    "            print(quote.css('span.text::text').extract_first())\n",
    "\n",
    "scrapydo.run_spider(QuotesSpider)"
   ]
  },
  {
   "cell_type": "code",
   "execution_count": null,
   "id": "9085578c",
   "metadata": {},
   "outputs": [],
   "source": []
  }
 ],
 "metadata": {
  "kernelspec": {
   "display_name": "Python 3 (ipykernel)",
   "language": "python",
   "name": "python3"
  },
  "language_info": {
   "codemirror_mode": {
    "name": "ipython",
    "version": 3
   },
   "file_extension": ".py",
   "mimetype": "text/x-python",
   "name": "python",
   "nbconvert_exporter": "python",
   "pygments_lexer": "ipython3",
   "version": "3.9.13"
  }
 },
 "nbformat": 4,
 "nbformat_minor": 5
}
